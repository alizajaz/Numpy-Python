{
 "cells": [
  {
   "cell_type": "code",
   "execution_count": 69,
   "id": "4be92970",
   "metadata": {},
   "outputs": [
    {
     "name": "stdout",
     "output_type": "stream",
     "text": [
      "Requirement already satisfied: numpy in c:\\users\\admin\\appdata\\roaming\\python\\python311\\site-packages (1.26.0)\n"
     ]
    },
    {
     "name": "stderr",
     "output_type": "stream",
     "text": [
      "\n",
      "[notice] A new release of pip is available: 23.2.1 -> 23.3.1\n",
      "[notice] To update, run: python.exe -m pip install --upgrade pip\n"
     ]
    }
   ],
   "source": [
    "#numpy is used to creat array and do mathmatical calculation\n",
    "#https://numpy.org/devdocs/user/\n",
    " \n",
    "!pip install numpy\n"
   ]
  },
  {
   "cell_type": "code",
   "execution_count": 2,
   "id": "149f5f51",
   "metadata": {},
   "outputs": [
    {
     "data": {
      "text/plain": [
       "[1, 1.2, 'amit']"
      ]
     },
     "execution_count": 2,
     "metadata": {},
     "output_type": "execute_result"
    }
   ],
   "source": [
    "L=[1,1.2,'amit']\n",
    "L\n"
   ]
  },
  {
   "cell_type": "code",
   "execution_count": 67,
   "id": "477db6f0",
   "metadata": {},
   "outputs": [
    {
     "data": {
      "text/plain": [
       "list"
      ]
     },
     "execution_count": 67,
     "metadata": {},
     "output_type": "execute_result"
    }
   ],
   "source": [
    "type(L)"
   ]
  },
  {
   "cell_type": "code",
   "execution_count": 5,
   "id": "99c37f5b",
   "metadata": {},
   "outputs": [
    {
     "name": "stdout",
     "output_type": "stream",
     "text": [
      "[1 2 3 4 5]\n"
     ]
    }
   ],
   "source": [
    "import numpy as np\n",
    "arr=np.array([1,2,3,4,5])\n",
    "print(arr)"
   ]
  },
  {
   "cell_type": "code",
   "execution_count": 6,
   "id": "8b9c4e88",
   "metadata": {},
   "outputs": [
    {
     "data": {
      "text/plain": [
       "numpy.ndarray"
      ]
     },
     "execution_count": 6,
     "metadata": {},
     "output_type": "execute_result"
    }
   ],
   "source": [
    "type(arr)"
   ]
  },
  {
   "cell_type": "code",
   "execution_count": 7,
   "id": "cd2982c1",
   "metadata": {},
   "outputs": [
    {
     "data": {
      "text/plain": [
       "1"
      ]
     },
     "execution_count": 7,
     "metadata": {},
     "output_type": "execute_result"
    }
   ],
   "source": [
    "arr[0]"
   ]
  },
  {
   "cell_type": "code",
   "execution_count": 8,
   "id": "d38209a3",
   "metadata": {},
   "outputs": [
    {
     "data": {
      "text/plain": [
       "3"
      ]
     },
     "execution_count": 8,
     "metadata": {},
     "output_type": "execute_result"
    }
   ],
   "source": [
    "arr[2]"
   ]
  },
  {
   "cell_type": "code",
   "execution_count": 11,
   "id": "f24b1ba8",
   "metadata": {},
   "outputs": [
    {
     "data": {
      "text/plain": [
       "(1, 2, 3)"
      ]
     },
     "execution_count": 11,
     "metadata": {},
     "output_type": "execute_result"
    }
   ],
   "source": [
    "arr[0],arr[1],arr[2]"
   ]
  },
  {
   "cell_type": "code",
   "execution_count": null,
   "id": "d7bbadab",
   "metadata": {},
   "outputs": [],
   "source": [
    "arr[0] #element present at index 0 \n",
    " #element present at index 1\n",
    "#element present at index 2"
   ]
  },
  {
   "cell_type": "code",
   "execution_count": 12,
   "id": "3ea40dad",
   "metadata": {},
   "outputs": [
    {
     "data": {
      "text/plain": [
       "-1"
      ]
     },
     "execution_count": 12,
     "metadata": {},
     "output_type": "execute_result"
    }
   ],
   "source": [
    "arr[0]-arr[1]"
   ]
  },
  {
   "cell_type": "code",
   "execution_count": 13,
   "id": "24c84e8c",
   "metadata": {},
   "outputs": [
    {
     "data": {
      "text/plain": [
       "1"
      ]
     },
     "execution_count": 13,
     "metadata": {},
     "output_type": "execute_result"
    }
   ],
   "source": [
    "arr[1]-arr[0]"
   ]
  },
  {
   "cell_type": "code",
   "execution_count": 14,
   "id": "85c0d3e4",
   "metadata": {},
   "outputs": [
    {
     "data": {
      "text/plain": [
       "2"
      ]
     },
     "execution_count": 14,
     "metadata": {},
     "output_type": "execute_result"
    }
   ],
   "source": [
    "arr[1]*arr[0]"
   ]
  },
  {
   "cell_type": "code",
   "execution_count": 16,
   "id": "a67662a9",
   "metadata": {},
   "outputs": [
    {
     "data": {
      "text/plain": [
       "array([[1, 2, 3, 4],\n",
       "       [5, 6, 7, 8]])"
      ]
     },
     "execution_count": 16,
     "metadata": {},
     "output_type": "execute_result"
    }
   ],
   "source": [
    "import numpy as np \n",
    "array1=np.array([[1,2,3,4],[5,6,7,8]])\n",
    "array1"
   ]
  },
  {
   "cell_type": "code",
   "execution_count": 19,
   "id": "aad0c3e2",
   "metadata": {},
   "outputs": [
    {
     "data": {
      "text/plain": [
       "array([[ 1,  2,  3,  4],\n",
       "       [ 5,  6,  7,  8],\n",
       "       [ 9, 10, 11, 12]])"
      ]
     },
     "execution_count": 19,
     "metadata": {},
     "output_type": "execute_result"
    }
   ],
   "source": [
    "import numpy as np \n",
    "array=np.array([[1,2,3,4],[5,6,7,8],[9,10,11,12]])\n",
    "array2"
   ]
  },
  {
   "cell_type": "code",
   "execution_count": 22,
   "id": "5124c3ff",
   "metadata": {},
   "outputs": [
    {
     "data": {
      "text/plain": [
       "(3, 4)"
      ]
     },
     "execution_count": 22,
     "metadata": {},
     "output_type": "execute_result"
    }
   ],
   "source": [
    "#it is telling you number of rows and column (Row,Column)\n",
    "array2.shape"
   ]
  },
  {
   "cell_type": "code",
   "execution_count": 34,
   "id": "66726eb9",
   "metadata": {},
   "outputs": [
    {
     "data": {
      "text/plain": [
       "array([[ 1,  2,  3,  8],\n",
       "       [ 5,  6,  7,  8],\n",
       "       [ 9, 10, 11,  5]])"
      ]
     },
     "execution_count": 34,
     "metadata": {},
     "output_type": "execute_result"
    }
   ],
   "source": [
    "import numpy as np \n",
    "array3=np.array([[1,2,3,8],[5,6,7,8],[9,10,11,5]])\n",
    "array3"
   ]
  },
  {
   "cell_type": "code",
   "execution_count": 28,
   "id": "832b6c96",
   "metadata": {},
   "outputs": [
    {
     "data": {
      "text/plain": [
       "array([[ 1,  2,  3,  8],\n",
       "       [ 5,  6,  7,  8],\n",
       "       [ 9, 10, 11, 78]])"
      ]
     },
     "execution_count": 28,
     "metadata": {},
     "output_type": "execute_result"
    }
   ],
   "source": [
    "#for loop\n",
    "import numpy as np \n",
    "array3=np.array([[1,2,3,8],[5,6,7,8],[9,10,11,78]])\n",
    "array3\n"
   ]
  },
  {
   "cell_type": "code",
   "execution_count": 29,
   "id": "fefffb91",
   "metadata": {},
   "outputs": [
    {
     "name": "stdout",
     "output_type": "stream",
     "text": [
      "[1 2 3 8]\n",
      "[5 6 7 8]\n",
      "[ 9 10 11 78]\n"
     ]
    }
   ],
   "source": [
    "\n",
    "#loop\n",
    "for i in array3:\n",
    "    print(i)"
   ]
  },
  {
   "cell_type": "code",
   "execution_count": 40,
   "id": "0753b3fb",
   "metadata": {},
   "outputs": [
    {
     "name": "stdout",
     "output_type": "stream",
     "text": [
      "[1 2 3 4] [1 2 3 4]\n",
      "[1 2 3 4] [5 6 7 8]\n",
      "[1 2 3 4] [ 9 10 11 12]\n",
      "[5 6 7 8] [1 2 3 4]\n",
      "[5 6 7 8] [5 6 7 8]\n",
      "[5 6 7 8] [ 9 10 11 12]\n",
      "[ 9 10 11 12] [1 2 3 4]\n",
      "[ 9 10 11 12] [5 6 7 8]\n",
      "[ 9 10 11 12] [ 9 10 11 12]\n"
     ]
    }
   ],
   "source": [
    "import numpy as np\n",
    "\n",
    "array3 = np.array([[1, 2, 3, 4], [5, 6, 7, 8], [9, 10, 11,12]])\n",
    "\n",
    "\n",
    "for i in array3:\n",
    "    for j in array3:\n",
    "        print(i,j)"
   ]
  },
  {
   "cell_type": "code",
   "execution_count": 44,
   "id": "623fb36e",
   "metadata": {},
   "outputs": [
    {
     "name": "stdout",
     "output_type": "stream",
     "text": [
      "1 2 3 4 5 6 7 8 9 10 11 12 "
     ]
    }
   ],
   "source": [
    "for i in array3:#i will be assigned with 3 #first for loop for reading every row of an array \n",
    "    for j in i: #j will run 3 times #second for loop for reading every value of that particular row\n",
    "        print(j , end=\" \")"
   ]
  },
  {
   "cell_type": "code",
   "execution_count": 46,
   "id": "a36263d7",
   "metadata": {},
   "outputs": [
    {
     "name": "stdout",
     "output_type": "stream",
     "text": [
      "1 2 3 4 5 6 7 8 9 10 11 12 "
     ]
    }
   ],
   "source": [
    "for i in np.nditer(array3): #nditer here nd means n dimentions, numpy function which iterate value un n-dimension  \n",
    "    print(i , end=\" \")"
   ]
  },
  {
   "cell_type": "code",
   "execution_count": 49,
   "id": "2d83d70f",
   "metadata": {},
   "outputs": [
    {
     "name": "stdout",
     "output_type": "stream",
     "text": [
      "(array([3, 5, 6], dtype=int64),)\n"
     ]
    }
   ],
   "source": [
    "#where function is used to search element here we are searching element 4 \n",
    "array4 = np.array([1,2,3,4,5,4,4])\n",
    "x=np.where(array4==4)\n",
    "print(x)"
   ]
  },
  {
   "cell_type": "code",
   "execution_count": 50,
   "id": "91fba2f8",
   "metadata": {},
   "outputs": [
    {
     "name": "stdout",
     "output_type": "stream",
     "text": [
      "[1 2 3 4 4 4 5]\n"
     ]
    }
   ],
   "source": [
    "array5=np.array([11,2,13,4,5,44,94])\n",
    "print(np.sort(array4))"
   ]
  },
  {
   "cell_type": "code",
   "execution_count": 55,
   "id": "6f751a73",
   "metadata": {},
   "outputs": [
    {
     "name": "stdout",
     "output_type": "stream",
     "text": [
      "[1 2 3 4 4 4 5]\n"
     ]
    }
   ],
   "source": [
    "array5=np.array([11,2,13,4,5,44,94])\n",
    "print(np.sort(array4))"
   ]
  },
  {
   "cell_type": "code",
   "execution_count": 57,
   "id": "73c92cd3",
   "metadata": {},
   "outputs": [
    {
     "data": {
      "text/plain": [
       "array([94, 44, 13, 11,  5,  4,  2])"
      ]
     },
     "execution_count": 57,
     "metadata": {},
     "output_type": "execute_result"
    }
   ],
   "source": [
    "x=np.sort(array5)\n",
    "x[: : -1] #print in descending order"
   ]
  },
  {
   "cell_type": "code",
   "execution_count": 59,
   "id": "3bc56890",
   "metadata": {},
   "outputs": [
    {
     "data": {
      "text/plain": [
       "array([94])"
      ]
     },
     "execution_count": 59,
     "metadata": {},
     "output_type": "execute_result"
    }
   ],
   "source": [
    "x[-1 :]"
   ]
  },
  {
   "cell_type": "code",
   "execution_count": 61,
   "id": "b2f71588",
   "metadata": {},
   "outputs": [
    {
     "data": {
      "text/plain": [
       "18"
      ]
     },
     "execution_count": 61,
     "metadata": {},
     "output_type": "execute_result"
    }
   ],
   "source": [
    "#print random number\n",
    "from numpy import random\n",
    "a=random.randint(100)#0 to 100\n",
    "a"
   ]
  },
  {
   "cell_type": "code",
   "execution_count": 66,
   "id": "0f3c5796",
   "metadata": {},
   "outputs": [
    {
     "name": "stdout",
     "output_type": "stream",
     "text": [
      "66 48 77 5 17 59 6 26 40 4 55 87 23 99 82 11 42 43 94 "
     ]
    }
   ],
   "source": [
    "from numpy import random\n",
    "\n",
    "for i in range(1,20):\n",
    "    a=random.randint(100)#0 to 100\n",
    "    print(a, end=\" \")"
   ]
  }
 ],
 "metadata": {
  "kernelspec": {
   "display_name": "Python 3 (ipykernel)",
   "language": "python",
   "name": "python3"
  },
  "language_info": {
   "codemirror_mode": {
    "name": "ipython",
    "version": 3
   },
   "file_extension": ".py",
   "mimetype": "text/x-python",
   "name": "python",
   "nbconvert_exporter": "python",
   "pygments_lexer": "ipython3",
   "version": "3.11.4"
  }
 },
 "nbformat": 4,
 "nbformat_minor": 5
}
